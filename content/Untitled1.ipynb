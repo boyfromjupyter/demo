{
 "cells": [
  {
   "cell_type": "markdown",
   "id": "cccff24c",
   "metadata": {},
   "source": [
    "# Contraceptive Method Choice Dataset\n",
    "\n",
    "## by Samuel Abati\n",
    "\n",
    "## Introduction"
   ]
  },
  {
   "cell_type": "markdown",
   "id": "2a6ff14a",
   "metadata": {},
   "source": [
    "    The contraceptive method choice dataset comprises 1473 instances."
   ]
  },
  {
   "cell_type": "markdown",
   "id": "94f15dbe",
   "metadata": {},
   "source": [
    "The dataset has 10 attributes.\n",
    "\n",
    "    Attribute Information:\n",
    "\n",
    "    Wife's age (numerical)\n",
    "\n",
    "    Wife's education (categorical) 1=low, 2, 3, 4=high\n",
    "\n",
    "    Husband's education (categorical) 1=low, 2, 3, 4=high\n",
    "\n",
    "    Number of children ever born (numerical)\n",
    "\n",
    "    Wife's religion (binary) 0=Non-Islam, 1=Islam\n",
    "\n",
    "    Wife's now working? (binary) 0=Yes, 1=No\n",
    "\n",
    "    Husband's occupation (categorical) 1, 2, 3, 4\n",
    "\n",
    "    Standard-of-living index (categorical) 1=low, 2, 3, 4=high\n",
    "\n",
    "    Media exposure (binary) 0=Good, 1=Not good\n",
    "\n",
    "    Contraceptive method used (class attribute) 1=No-use ,2=Long-term,3=Short-term"
   ]
  },
  {
   "cell_type": "markdown",
   "id": "afdcf3d5",
   "metadata": {},
   "source": [
    "The samples are married women who were either not\n",
    "pregnant or do not know if they were at the time of interview."
   ]
  },
  {
   "cell_type": "markdown",
   "id": "c28a6d5d",
   "metadata": {},
   "source": [
    "## Preliminary Wrangling"
   ]
  },
  {
   "cell_type": "code",
   "execution_count": 81,
   "id": "0bf44daf",
   "metadata": {},
   "outputs": [],
   "source": [
    "# import all packages and set plots to be embedded inline\n",
    "import numpy as np\n",
    "import pandas as pd\n",
    "import matplotlib.pyplot as plt\n",
    "import seaborn as sns\n",
    "\n",
    "from sklearn.model_selection import train_test_split\n",
    "from sklearn.svm import LinearSVC\n",
    "from sklearn.metrics import classification_report\n",
    "from sklearn.neighbors import KNeighborsClassifier\n",
    "from sklearn.ensemble import RandomForestClassifier\n",
    "from sklearn.ensemble import GradientBoostingClassifier\n",
    "\n",
    "%matplotlib inline"
   ]
  },
  {
   "cell_type": "markdown",
   "id": "8eb767c4",
   "metadata": {},
   "source": [
    "    In this section, the goal is to load the dataset and its structure and perform prelimiinary wrangling if needed. That is further cleaning, to ensure the data is tidy."
   ]
  },
  {
   "cell_type": "code",
   "execution_count": 2,
   "id": "22aa00d5",
   "metadata": {},
   "outputs": [],
   "source": [
    "#load in the dataset into a pandas dataframe and check its structure\n",
    "df = pd.read_csv('cmc.data.txt', names=[\"Wife's age\", \"Wife's education\", \"Husband's education\", \"Number of children ever born\", \"Wife's religion\", \"Wife's now working?\", \"Husband's occupation\", \"Standard-of-living index\", \"Media exposure\", \"Contraceptive method used\" ])\n"
   ]
  },
  {
   "cell_type": "code",
   "execution_count": 3,
   "id": "7cc9ebeb",
   "metadata": {},
   "outputs": [
    {
     "name": "stdout",
     "output_type": "stream",
     "text": [
      "(1473, 10)\n",
      "Wife's age                      int64\n",
      "Wife's education                int64\n",
      "Husband's education             int64\n",
      "Number of children ever born    int64\n",
      "Wife's religion                 int64\n",
      "Wife's now working?             int64\n",
      "Husband's occupation            int64\n",
      "Standard-of-living index        int64\n",
      "Media exposure                  int64\n",
      "Contraceptive method used       int64\n",
      "dtype: object\n",
      "   Wife's age  Wife's education  Husband's education  \\\n",
      "0          24                 2                    3   \n",
      "1          45                 1                    3   \n",
      "2          43                 2                    3   \n",
      "3          42                 3                    2   \n",
      "4          36                 3                    3   \n",
      "5          19                 4                    4   \n",
      "6          38                 2                    3   \n",
      "7          21                 3                    3   \n",
      "8          27                 2                    3   \n",
      "9          45                 1                    1   \n",
      "\n",
      "   Number of children ever born  Wife's religion  Wife's now working?  \\\n",
      "0                             3                1                    1   \n",
      "1                            10                1                    1   \n",
      "2                             7                1                    1   \n",
      "3                             9                1                    1   \n",
      "4                             8                1                    1   \n",
      "5                             0                1                    1   \n",
      "6                             6                1                    1   \n",
      "7                             1                1                    0   \n",
      "8                             3                1                    1   \n",
      "9                             8                1                    1   \n",
      "\n",
      "   Husband's occupation  Standard-of-living index  Media exposure  \\\n",
      "0                     2                         3               0   \n",
      "1                     3                         4               0   \n",
      "2                     3                         4               0   \n",
      "3                     3                         3               0   \n",
      "4                     3                         2               0   \n",
      "5                     3                         3               0   \n",
      "6                     3                         2               0   \n",
      "7                     3                         2               0   \n",
      "8                     3                         4               0   \n",
      "9                     2                         2               1   \n",
      "\n",
      "   Contraceptive method used  \n",
      "0                          1  \n",
      "1                          1  \n",
      "2                          1  \n",
      "3                          1  \n",
      "4                          1  \n",
      "5                          1  \n",
      "6                          1  \n",
      "7                          1  \n",
      "8                          1  \n",
      "9                          1  \n"
     ]
    }
   ],
   "source": [
    "#high-level overview of data shape and composition\n",
    "print(df.shape)\n",
    "print(df.dtypes)\n",
    "print(df.head(10))"
   ]
  },
  {
   "cell_type": "code",
   "execution_count": 4,
   "id": "dad234c2",
   "metadata": {},
   "outputs": [],
   "source": [
    "#converting all qualitative variables into object data types\n",
    "df[[\"Wife's education\", \"Husband's education\", \"Husband's occupation\", \"Standard-of-living index\", \"Wife's religion\", \"Wife's now working?\", \"Media exposure\", \"Contraceptive method used\"]] = df[[\"Wife's education\", \"Husband's education\", \"Husband's occupation\", \"Standard-of-living index\", \"Wife's religion\", \"Wife's now working?\", \"Media exposure\", \"Contraceptive method used\"]].astype(\"category\")"
   ]
  },
  {
   "cell_type": "code",
   "execution_count": 5,
   "id": "3a8acafe",
   "metadata": {},
   "outputs": [
    {
     "data": {
      "text/plain": [
       "Wife's age                      0\n",
       "Wife's education                0\n",
       "Husband's education             0\n",
       "Number of children ever born    0\n",
       "Wife's religion                 0\n",
       "Wife's now working?             0\n",
       "Husband's occupation            0\n",
       "Standard-of-living index        0\n",
       "Media exposure                  0\n",
       "Contraceptive method used       0\n",
       "dtype: int64"
      ]
     },
     "execution_count": 5,
     "metadata": {},
     "output_type": "execute_result"
    }
   ],
   "source": [
    "# checking for any missing values\n",
    "df.isnull().sum()"
   ]
  },
  {
   "cell_type": "markdown",
   "id": "25aae451",
   "metadata": {},
   "source": [
    "    There are no missing values in the data provided"
   ]
  },
  {
   "cell_type": "code",
   "execution_count": 6,
   "id": "4d3f9c12",
   "metadata": {},
   "outputs": [
    {
     "data": {
      "text/plain": [
       "48"
      ]
     },
     "execution_count": 6,
     "metadata": {},
     "output_type": "execute_result"
    }
   ],
   "source": [
    "# checking for duplicated rows\n",
    "df.duplicated().sum()"
   ]
  },
  {
   "cell_type": "markdown",
   "id": "9611cc1f",
   "metadata": {},
   "source": [
    "    Looks like there's quite a number of duplicated rows. These duplicates add no new value to our analysis nor the model building so they will be dropped."
   ]
  },
  {
   "cell_type": "code",
   "execution_count": 7,
   "id": "0bbb82d1",
   "metadata": {},
   "outputs": [],
   "source": [
    "# dropping the duplicates\n",
    "df = df.drop_duplicates()"
   ]
  },
  {
   "cell_type": "code",
   "execution_count": 8,
   "id": "3d681c9a",
   "metadata": {},
   "outputs": [
    {
     "name": "stdout",
     "output_type": "stream",
     "text": [
      "(1425, 10)\n",
      "Wife's age                         int64\n",
      "Wife's education                category\n",
      "Husband's education             category\n",
      "Number of children ever born       int64\n",
      "Wife's religion                 category\n",
      "Wife's now working?             category\n",
      "Husband's occupation            category\n",
      "Standard-of-living index        category\n",
      "Media exposure                  category\n",
      "Contraceptive method used       category\n",
      "dtype: object\n",
      "   Wife's age Wife's education Husband's education  \\\n",
      "0          24                2                   3   \n",
      "1          45                1                   3   \n",
      "2          43                2                   3   \n",
      "3          42                3                   2   \n",
      "4          36                3                   3   \n",
      "\n",
      "   Number of children ever born Wife's religion Wife's now working?  \\\n",
      "0                             3               1                   1   \n",
      "1                            10               1                   1   \n",
      "2                             7               1                   1   \n",
      "3                             9               1                   1   \n",
      "4                             8               1                   1   \n",
      "\n",
      "  Husband's occupation Standard-of-living index Media exposure  \\\n",
      "0                    2                        3              0   \n",
      "1                    3                        4              0   \n",
      "2                    3                        4              0   \n",
      "3                    3                        3              0   \n",
      "4                    3                        2              0   \n",
      "\n",
      "  Contraceptive method used  \n",
      "0                         1  \n",
      "1                         1  \n",
      "2                         1  \n",
      "3                         1  \n",
      "4                         1  \n"
     ]
    }
   ],
   "source": [
    "#Checking to see all the wrangling performed\n",
    "print(df.shape)\n",
    "print(df.dtypes)\n",
    "print(df.head(5))"
   ]
  },
  {
   "cell_type": "code",
   "execution_count": 9,
   "id": "93fee466",
   "metadata": {},
   "outputs": [
    {
     "data": {
      "text/html": [
       "<div>\n",
       "<style scoped>\n",
       "    .dataframe tbody tr th:only-of-type {\n",
       "        vertical-align: middle;\n",
       "    }\n",
       "\n",
       "    .dataframe tbody tr th {\n",
       "        vertical-align: top;\n",
       "    }\n",
       "\n",
       "    .dataframe thead th {\n",
       "        text-align: right;\n",
       "    }\n",
       "</style>\n",
       "<table border=\"1\" class=\"dataframe\">\n",
       "  <thead>\n",
       "    <tr style=\"text-align: right;\">\n",
       "      <th></th>\n",
       "      <th>Wife's age</th>\n",
       "      <th>Number of children ever born</th>\n",
       "    </tr>\n",
       "  </thead>\n",
       "  <tbody>\n",
       "    <tr>\n",
       "      <th>count</th>\n",
       "      <td>1425.000000</td>\n",
       "      <td>1425.000000</td>\n",
       "    </tr>\n",
       "    <tr>\n",
       "      <th>mean</th>\n",
       "      <td>32.504561</td>\n",
       "      <td>3.284912</td>\n",
       "    </tr>\n",
       "    <tr>\n",
       "      <th>std</th>\n",
       "      <td>8.215933</td>\n",
       "      <td>2.377671</td>\n",
       "    </tr>\n",
       "    <tr>\n",
       "      <th>min</th>\n",
       "      <td>16.000000</td>\n",
       "      <td>0.000000</td>\n",
       "    </tr>\n",
       "    <tr>\n",
       "      <th>25%</th>\n",
       "      <td>26.000000</td>\n",
       "      <td>1.000000</td>\n",
       "    </tr>\n",
       "    <tr>\n",
       "      <th>50%</th>\n",
       "      <td>32.000000</td>\n",
       "      <td>3.000000</td>\n",
       "    </tr>\n",
       "    <tr>\n",
       "      <th>75%</th>\n",
       "      <td>39.000000</td>\n",
       "      <td>5.000000</td>\n",
       "    </tr>\n",
       "    <tr>\n",
       "      <th>max</th>\n",
       "      <td>49.000000</td>\n",
       "      <td>16.000000</td>\n",
       "    </tr>\n",
       "  </tbody>\n",
       "</table>\n",
       "</div>"
      ],
      "text/plain": [
       "        Wife's age  Number of children ever born\n",
       "count  1425.000000                   1425.000000\n",
       "mean     32.504561                      3.284912\n",
       "std       8.215933                      2.377671\n",
       "min      16.000000                      0.000000\n",
       "25%      26.000000                      1.000000\n",
       "50%      32.000000                      3.000000\n",
       "75%      39.000000                      5.000000\n",
       "max      49.000000                     16.000000"
      ]
     },
     "execution_count": 9,
     "metadata": {},
     "output_type": "execute_result"
    }
   ],
   "source": [
    "#Checking the statistics of the dataset using describe()\n",
    "df.describe()"
   ]
  },
  {
   "cell_type": "markdown",
   "id": "5cb7321f",
   "metadata": {},
   "source": [
    "## Dataset Structure:\n",
    "\n",
    "The dataset initially had 1473 rows and 10 columns.\n",
    "\n",
    "    I converted columns with categorical attributes into categorical object types.\n",
    "\n",
    "    There were no missing values in the data provided but some rows were duplicated, 48 in numbers. \n",
    "\n",
    "    These rows were dropped as they add no additional value to our analysis."
   ]
  },
  {
   "cell_type": "markdown",
   "id": "768ae4b9",
   "metadata": {},
   "source": [
    "## Main Features of interest in the dataset:\n",
    "\n",
    "    This dataset has a lot of interesting features that I believe would be worthwile to explore, so I will be exploring most.\n",
    "\n",
    "    The Features are the Wife's age, Wife's education, Husband's education, Number of children ever born, Wife's religion, Wife's now working?, Husband's occupation, Standard-of-living index, and Media exposure."
   ]
  },
  {
   "cell_type": "markdown",
   "id": "03fac9a0",
   "metadata": {},
   "source": [
    "## Univariate Exploration:\n",
    "\n",
    "    In this section, we will be investigating distributions of individual variables."
   ]
  },
  {
   "cell_type": "code",
   "execution_count": 10,
   "id": "9db071bb",
   "metadata": {},
   "outputs": [
    {
     "data": {
      "image/png": "[encoded data removed]",
      "text/plain": [
       "<Figure size 800x500 with 1 Axes>"
      ]
     },
     "metadata": {},
     "output_type": "display_data"
    }
   ],
   "source": [
    "#setting figure size\n",
    "plt.figure(figsize =[8,5])\n",
    "#setting ticks and labels\n",
    "ticks=[25,50,75,100,125,150,175,200]\n",
    "labels=['25','50','75','100','125','150','175','200']\n",
    "#using a standard scaled Hist plot\n",
    "plt.hist(data= df, x =\"Wife's age\",bins= 15)\n",
    "plt.yticks(ticks,labels)\n",
    "#setting title and  axis label\n",
    "plt.title('Age distribution of women')\n",
    "plt.ylabel('Frequency of women')\n",
    "plt.xlabel('Age(years)')\n",
    "plt.show()"
   ]
  },
  {
   "cell_type": "markdown",
   "id": "92fb6d5e",
   "metadata": {},
   "source": [
    "### Observation:\n",
    "\n",
    "    There seems to be no outliers in this dataset. The distribution appears to be a unimodal one with a peak between 25 and 30 years."
   ]
  },
  {
   "cell_type": "code",
   "execution_count": 11,
   "id": "929bd802",
   "metadata": {},
   "outputs": [
    {
     "data": {
      "text/plain": [
       "0    25\n",
       "Name: Wife's age, dtype: int64"
      ]
     },
     "execution_count": 11,
     "metadata": {},
     "output_type": "execute_result"
    }
   ],
   "source": [
    "df[\"Wife's age\"].mode()"
   ]
  },
  {
   "cell_type": "markdown",
   "id": "d7168b09",
   "metadata": {},
   "source": [
    "    But using the pandas method \".mode()\" gives the mode as 25 years."
   ]
  },
  {
   "cell_type": "code",
   "execution_count": 12,
   "id": "7f8d5595",
   "metadata": {},
   "outputs": [
    {
     "data": {
      "image/png": "[encoded data removed]",
      "text/plain": [
       "<Figure size 500x500 with 1 Axes>"
      ]
     },
     "metadata": {},
     "output_type": "display_data"
    }
   ],
   "source": [
    "#plotting univariate plot for Contraceptive method used\n",
    "sns.catplot(x=\"Contraceptive method used\", data=df, kind='count');"
   ]
  },
  {
   "cell_type": "markdown",
   "id": "5b7813fc",
   "metadata": {},
   "source": [
    "### Observation:\n",
    "\n",
    "    It appears most women (>600) don't use any form of contraception, and of those who do, a greater number use only for a short period of time."
   ]
  },
  {
   "cell_type": "code",
   "execution_count": 13,
   "id": "a61ffa0e",
   "metadata": {
    "scrolled": true
   },
   "outputs": [
    {
     "data": {
      "image/png": "[encoded data removed]",
      "text/plain": [
       "<Figure size 800x500 with 1 Axes>"
      ]
     },
     "metadata": {},
     "output_type": "display_data"
    }
   ],
   "source": [
    "plt.figure(figsize = [8,5])\n",
    "\n",
    "binsize = 2\n",
    "bins = np.arange(0,30+binsize,binsize)\n",
    "plt.hist(data=df,x='Number of children ever born',bins = bins)\n",
    "plt.xlabel('Number of children ever born')\n",
    "plt.ylabel('Count');"
   ]
  },
  {
   "cell_type": "markdown",
   "id": "7b7a448d",
   "metadata": {},
   "source": [
    "### Observation:\n",
    "\n",
    "    From the plot, the Number of children ever born to the women has a unimodal distribution with most of the wonen having betwwen 0 and 5 children. The plot also spikes around 3 and 4 children."
   ]
  },
  {
   "cell_type": "markdown",
   "id": "9b30e372",
   "metadata": {},
   "source": [
    "## Univariate Exploration Summary:\n",
    "\n",
    "    After Univariate exploration of the variables of my interest, I discovered interesting patterns in some of the variables, such as the Wife's age, Contraceptive method used, and the Number of children ever born. Which I will further explore to see relationshps in some. I did not see a need to carry out any major transformations to see the pattern in the variabes properly."
   ]
  },
  {
   "cell_type": "markdown",
   "id": "7dc3f33f",
   "metadata": {},
   "source": [
    "## Bivariate  Exploration:\n",
    "\n",
    "    In this section, I will investigate relationships between pairs of variables in the data.\n",
    "    \n",
    "    To start with, I will be plotting \"Wife's age\" attribute against the \"Contraceptive method used\" atttibute."
   ]
  },
  {
   "cell_type": "code",
   "execution_count": 14,
   "id": "15a90cfe",
   "metadata": {},
   "outputs": [
    {
     "data": {
      "image/png": "[encoded data removed]",
      "text/plain": [
       "<Figure size 500x500 with 1 Axes>"
      ]
     },
     "metadata": {},
     "output_type": "display_data"
    }
   ],
   "source": [
    "sns.catplot(x=\"Contraceptive method used\", y=\"Wife's age\", data=df, kind='point');"
   ]
  },
  {
   "cell_type": "markdown",
   "id": "00de249a",
   "metadata": {},
   "source": [
    "### Observation:\n",
    "\n",
    "    From the plot above, of those who use contraceptives,  younger-aged women tend to use long-term contraceptives while older-aged women use mostly short-term forms."
   ]
  },
  {
   "cell_type": "code",
   "execution_count": 15,
   "id": "384fe27b",
   "metadata": {},
   "outputs": [
    {
     "data": {
      "image/png": "[encoded data removed]",
      "text/plain": [
       "<Figure size 1000x1000 with 1 Axes>"
      ]
     },
     "metadata": {},
     "output_type": "display_data"
    }
   ],
   "source": [
    "plt.figure(figsize = [10,10])\n",
    "#using seaborns countplot \n",
    "sns.countplot(data = df,x=\"Wife's education\",hue=\"Contraceptive method used\")\n",
    "#setting axis labels\n",
    "plt.title('Education distribution')\n",
    "plt.xlabel(\"Wife's education\")\n",
    "plt.ylabel('Count');"
   ]
  },
  {
   "cell_type": "markdown",
   "id": "9e563934",
   "metadata": {},
   "source": [
    "### Observation:\n",
    "\n",
    "    Though there is no exact description of the education attributes, the higher the number the higher the educational level.\n",
    "\n",
    "    It appears that the more educated the woman, the higher the likelihood of her using a contraceptive. This stands to reason ofcourse, since with more education comes the knowledge of the benefits of using contraceptives."
   ]
  },
  {
   "cell_type": "code",
   "execution_count": 16,
   "id": "8e5e8017",
   "metadata": {},
   "outputs": [
    {
     "data": {
      "image/png": "[encoded data removed]",
      "text/plain": [
       "<Figure size 1000x1000 with 1 Axes>"
      ]
     },
     "metadata": {},
     "output_type": "display_data"
    }
   ],
   "source": [
    "plt.figure(figsize = [10,10])\n",
    "#using seaborns countplot \n",
    "sns.countplot(data = df,x=\"Wife's now working?\",hue=\"Contraceptive method used\")\n",
    "#setting axis labels\n",
    "plt.xlabel(\"Wife's now working?\")\n",
    "plt.ylabel('Count');"
   ]
  },
  {
   "cell_type": "markdown",
   "id": "076e3612",
   "metadata": {},
   "source": [
    "## 0bservation:\n",
    "\n",
    "    From my observation of this plot, the samples aren't even distributed amongst women now working and those who aren't, so there doesnt really seem to be a significant relationship or difference in the distribution when compared to contraceptive use."
   ]
  },
  {
   "cell_type": "markdown",
   "id": "1c845d39",
   "metadata": {},
   "source": [
    "## Bivariate Exploration Summary:\n",
    "\n",
    "    The age of the women and the contaceptive method used have an interesting relationship. It turns out younger women used long-term contraceptives when compared with older women who tend to use short-term contaceptives. Then again, it may just be a coincidence as a result of the sample used to prepare the dataset.\n",
    "    \n",
    "    I also discovered that the more educated the woman, the higher the likelihood of her using a contraceptive."
   ]
  },
  {
   "cell_type": "markdown",
   "id": "2f66a9eb",
   "metadata": {},
   "source": [
    "# Model Building"
   ]
  },
  {
   "cell_type": "markdown",
   "id": "84d8a235",
   "metadata": {},
   "source": [
    "## Linear SVC"
   ]
  },
  {
   "cell_type": "code",
   "execution_count": 37,
   "id": "d44834a1",
   "metadata": {},
   "outputs": [],
   "source": [
    "#creating the x variable\n",
    "x = df.drop(columns =['Contraceptive method used']).values\n"
   ]
  },
  {
   "cell_type": "code",
   "execution_count": 38,
   "id": "a6102ea0",
   "metadata": {},
   "outputs": [],
   "source": [
    "#creating the y variable\n",
    "y = df['Contraceptive method used'].values"
   ]
  },
  {
   "cell_type": "code",
   "execution_count": 39,
   "id": "6236a7a5",
   "metadata": {},
   "outputs": [],
   "source": [
    "#splitting the dataset\n",
    "x_train, x_test, y_train, y_test = train_test_split(x, y, test_size = 0.3, random_state= 42)"
   ]
  },
  {
   "cell_type": "code",
   "execution_count": 40,
   "id": "5a6948dc",
   "metadata": {},
   "outputs": [
    {
     "name": "stderr",
     "output_type": "stream",
     "text": [
      "C:\\Users\\DELL\\Desktop\\nlp\\env\\lib\\site-packages\\sklearn\\svm\\_base.py:1225: ConvergenceWarning: Liblinear failed to converge, increase the number of iterations.\n",
      "  warnings.warn(\n"
     ]
    },
    {
     "data": {
      "text/html": [
       "<style>#sk-container-id-3 {color: black;background-color: white;}#sk-container-id-3 pre{padding: 0;}#sk-container-id-3 div.sk-toggleable {background-color: white;}#sk-container-id-3 label.sk-toggleable__label {cursor: pointer;display: block;width: 100%;margin-bottom: 0;padding: 0.3em;box-sizing: border-box;text-align: center;}#sk-container-id-3 label.sk-toggleable__label-arrow:before {content: \"▸\";float: left;margin-right: 0.25em;color: #696969;}#sk-container-id-3 label.sk-toggleable__label-arrow:hover:before {color: black;}#sk-container-id-3 div.sk-estimator:hover label.sk-toggleable__label-arrow:before {color: black;}#sk-container-id-3 div.sk-toggleable__content {max-height: 0;max-width: 0;overflow: hidden;text-align: left;background-color: #f0f8ff;}#sk-container-id-3 div.sk-toggleable__content pre {margin: 0.2em;color: black;border-radius: 0.25em;background-color: #f0f8ff;}#sk-container-id-3 input.sk-toggleable__control:checked~div.sk-toggleable__content {max-height: 200px;max-width: 100%;overflow: auto;}#sk-container-id-3 input.sk-toggleable__control:checked~label.sk-toggleable__label-arrow:before {content: \"▾\";}#sk-container-id-3 div.sk-estimator input.sk-toggleable__control:checked~label.sk-toggleable__label {background-color: #d4ebff;}#sk-container-id-3 div.sk-label input.sk-toggleable__control:checked~label.sk-toggleable__label {background-color: #d4ebff;}#sk-container-id-3 input.sk-hidden--visually {border: 0;clip: rect(1px 1px 1px 1px);clip: rect(1px, 1px, 1px, 1px);height: 1px;margin: -1px;overflow: hidden;padding: 0;position: absolute;width: 1px;}#sk-container-id-3 div.sk-estimator {font-family: monospace;background-color: #f0f8ff;border: 1px dotted black;border-radius: 0.25em;box-sizing: border-box;margin-bottom: 0.5em;}#sk-container-id-3 div.sk-estimator:hover {background-color: #d4ebff;}#sk-container-id-3 div.sk-parallel-item::after {content: \"\";width: 100%;border-bottom: 1px solid gray;flex-grow: 1;}#sk-container-id-3 div.sk-label:hover label.sk-toggleable__label {background-color: #d4ebff;}#sk-container-id-3 div.sk-serial::before {content: \"\";position: absolute;border-left: 1px solid gray;box-sizing: border-box;top: 0;bottom: 0;left: 50%;z-index: 0;}#sk-container-id-3 div.sk-serial {display: flex;flex-direction: column;align-items: center;background-color: white;padding-right: 0.2em;padding-left: 0.2em;position: relative;}#sk-container-id-3 div.sk-item {position: relative;z-index: 1;}#sk-container-id-3 div.sk-parallel {display: flex;align-items: stretch;justify-content: center;background-color: white;position: relative;}#sk-container-id-3 div.sk-item::before, #sk-container-id-3 div.sk-parallel-item::before {content: \"\";position: absolute;border-left: 1px solid gray;box-sizing: border-box;top: 0;bottom: 0;left: 50%;z-index: -1;}#sk-container-id-3 div.sk-parallel-item {display: flex;flex-direction: column;z-index: 1;position: relative;background-color: white;}#sk-container-id-3 div.sk-parallel-item:first-child::after {align-self: flex-end;width: 50%;}#sk-container-id-3 div.sk-parallel-item:last-child::after {align-self: flex-start;width: 50%;}#sk-container-id-3 div.sk-parallel-item:only-child::after {width: 0;}#sk-container-id-3 div.sk-dashed-wrapped {border: 1px dashed gray;margin: 0 0.4em 0.5em 0.4em;box-sizing: border-box;padding-bottom: 0.4em;background-color: white;}#sk-container-id-3 div.sk-label label {font-family: monospace;font-weight: bold;display: inline-block;line-height: 1.2em;}#sk-container-id-3 div.sk-label-container {text-align: center;}#sk-container-id-3 div.sk-container {/* jupyter's `normalize.less` sets `[hidden] { display: none; }` but bootstrap.min.css set `[hidden] { display: none !important; }` so we also need the `!important` here to be able to override the default hidden behavior on the sphinx rendered scikit-learn.org. See: https://github.com/scikit-learn/scikit-learn/issues/21755 */display: inline-block !important;position: relative;}#sk-container-id-3 div.sk-text-repr-fallback {display: none;}</style><div id=\"sk-container-id-3\" class=\"sk-top-container\"><div class=\"sk-text-repr-fallback\"><pre>LinearSVC()</pre><b>In a Jupyter environment, please rerun this cell to show the HTML representation or trust the notebook. <br />On GitHub, the HTML representation is unable to render, please try loading this page with nbviewer.org.</b></div><div class=\"sk-container\" hidden><div class=\"sk-item\"><div class=\"sk-estimator sk-toggleable\"><input class=\"sk-toggleable__control sk-hidden--visually\" id=\"sk-estimator-id-3\" type=\"checkbox\" checked><label for=\"sk-estimator-id-3\" class=\"sk-toggleable__label sk-toggleable__label-arrow\">LinearSVC</label><div class=\"sk-toggleable__content\"><pre>LinearSVC()</pre></div></div></div></div></div>"
      ],
      "text/plain": [
       "LinearSVC()"
      ]
     },
     "execution_count": 40,
     "metadata": {},
     "output_type": "execute_result"
    }
   ],
   "source": [
    "#fitting the model for Linear SVC model\n",
    "linear_svc = LinearSVC()\n",
    "linear_svc.fit(x_train,y_train)"
   ]
  },
  {
   "cell_type": "code",
   "execution_count": 41,
   "id": "b4ded73d",
   "metadata": {},
   "outputs": [],
   "source": [
    "#calculating the predicted values\n",
    "predictions = linear_svc.predict(x_test)\n"
   ]
  },
  {
   "cell_type": "code",
   "execution_count": 42,
   "id": "8189861c",
   "metadata": {},
   "outputs": [
    {
     "name": "stdout",
     "output_type": "stream",
     "text": [
      "              precision    recall  f1-score   support\n",
      "\n",
      "           1       0.67      0.40      0.51       178\n",
      "           2       0.37      0.75      0.50       102\n",
      "           3       0.54      0.41      0.46       148\n",
      "\n",
      "    accuracy                           0.49       428\n",
      "   macro avg       0.53      0.52      0.49       428\n",
      "weighted avg       0.55      0.49      0.49       428\n",
      "\n"
     ]
    }
   ],
   "source": [
    "print(classification_report(y_test, predictions))"
   ]
  },
  {
   "cell_type": "markdown",
   "id": "9fe09b6e",
   "metadata": {},
   "source": [
    "## K Nearest Neighbours"
   ]
  },
  {
   "cell_type": "code",
   "execution_count": 73,
   "id": "fc1b19db",
   "metadata": {},
   "outputs": [
    {
     "data": {
      "text/html": [
       "<style>#sk-container-id-13 {color: black;background-color: white;}#sk-container-id-13 pre{padding: 0;}#sk-container-id-13 div.sk-toggleable {background-color: white;}#sk-container-id-13 label.sk-toggleable__label {cursor: pointer;display: block;width: 100%;margin-bottom: 0;padding: 0.3em;box-sizing: border-box;text-align: center;}#sk-container-id-13 label.sk-toggleable__label-arrow:before {content: \"▸\";float: left;margin-right: 0.25em;color: #696969;}#sk-container-id-13 label.sk-toggleable__label-arrow:hover:before {color: black;}#sk-container-id-13 div.sk-estimator:hover label.sk-toggleable__label-arrow:before {color: black;}#sk-container-id-13 div.sk-toggleable__content {max-height: 0;max-width: 0;overflow: hidden;text-align: left;background-color: #f0f8ff;}#sk-container-id-13 div.sk-toggleable__content pre {margin: 0.2em;color: black;border-radius: 0.25em;background-color: #f0f8ff;}#sk-container-id-13 input.sk-toggleable__control:checked~div.sk-toggleable__content {max-height: 200px;max-width: 100%;overflow: auto;}#sk-container-id-13 input.sk-toggleable__control:checked~label.sk-toggleable__label-arrow:before {content: \"▾\";}#sk-container-id-13 div.sk-estimator input.sk-toggleable__control:checked~label.sk-toggleable__label {background-color: #d4ebff;}#sk-container-id-13 div.sk-label input.sk-toggleable__control:checked~label.sk-toggleable__label {background-color: #d4ebff;}#sk-container-id-13 input.sk-hidden--visually {border: 0;clip: rect(1px 1px 1px 1px);clip: rect(1px, 1px, 1px, 1px);height: 1px;margin: -1px;overflow: hidden;padding: 0;position: absolute;width: 1px;}#sk-container-id-13 div.sk-estimator {font-family: monospace;background-color: #f0f8ff;border: 1px dotted black;border-radius: 0.25em;box-sizing: border-box;margin-bottom: 0.5em;}#sk-container-id-13 div.sk-estimator:hover {background-color: #d4ebff;}#sk-container-id-13 div.sk-parallel-item::after {content: \"\";width: 100%;border-bottom: 1px solid gray;flex-grow: 1;}#sk-container-id-13 div.sk-label:hover label.sk-toggleable__label {background-color: #d4ebff;}#sk-container-id-13 div.sk-serial::before {content: \"\";position: absolute;border-left: 1px solid gray;box-sizing: border-box;top: 0;bottom: 0;left: 50%;z-index: 0;}#sk-container-id-13 div.sk-serial {display: flex;flex-direction: column;align-items: center;background-color: white;padding-right: 0.2em;padding-left: 0.2em;position: relative;}#sk-container-id-13 div.sk-item {position: relative;z-index: 1;}#sk-container-id-13 div.sk-parallel {display: flex;align-items: stretch;justify-content: center;background-color: white;position: relative;}#sk-container-id-13 div.sk-item::before, #sk-container-id-13 div.sk-parallel-item::before {content: \"\";position: absolute;border-left: 1px solid gray;box-sizing: border-box;top: 0;bottom: 0;left: 50%;z-index: -1;}#sk-container-id-13 div.sk-parallel-item {display: flex;flex-direction: column;z-index: 1;position: relative;background-color: white;}#sk-container-id-13 div.sk-parallel-item:first-child::after {align-self: flex-end;width: 50%;}#sk-container-id-13 div.sk-parallel-item:last-child::after {align-self: flex-start;width: 50%;}#sk-container-id-13 div.sk-parallel-item:only-child::after {width: 0;}#sk-container-id-13 div.sk-dashed-wrapped {border: 1px dashed gray;margin: 0 0.4em 0.5em 0.4em;box-sizing: border-box;padding-bottom: 0.4em;background-color: white;}#sk-container-id-13 div.sk-label label {font-family: monospace;font-weight: bold;display: inline-block;line-height: 1.2em;}#sk-container-id-13 div.sk-label-container {text-align: center;}#sk-container-id-13 div.sk-container {/* jupyter's `normalize.less` sets `[hidden] { display: none; }` but bootstrap.min.css set `[hidden] { display: none !important; }` so we also need the `!important` here to be able to override the default hidden behavior on the sphinx rendered scikit-learn.org. See: https://github.com/scikit-learn/scikit-learn/issues/21755 */display: inline-block !important;position: relative;}#sk-container-id-13 div.sk-text-repr-fallback {display: none;}</style><div id=\"sk-container-id-13\" class=\"sk-top-container\"><div class=\"sk-text-repr-fallback\"><pre>KNeighborsClassifier(n_neighbors=25)</pre><b>In a Jupyter environment, please rerun this cell to show the HTML representation or trust the notebook. <br />On GitHub, the HTML representation is unable to render, please try loading this page with nbviewer.org.</b></div><div class=\"sk-container\" hidden><div class=\"sk-item\"><div class=\"sk-estimator sk-toggleable\"><input class=\"sk-toggleable__control sk-hidden--visually\" id=\"sk-estimator-id-13\" type=\"checkbox\" checked><label for=\"sk-estimator-id-13\" class=\"sk-toggleable__label sk-toggleable__label-arrow\">KNeighborsClassifier</label><div class=\"sk-toggleable__content\"><pre>KNeighborsClassifier(n_neighbors=25)</pre></div></div></div></div></div>"
      ],
      "text/plain": [
       "KNeighborsClassifier(n_neighbors=25)"
      ]
     },
     "execution_count": 73,
     "metadata": {},
     "output_type": "execute_result"
    }
   ],
   "source": [
    "neigh = KNeighborsClassifier(n_neighbors=25)\n",
    "neigh.fit(x_train,y_train)"
   ]
  },
  {
   "cell_type": "code",
   "execution_count": 74,
   "id": "37026c2d",
   "metadata": {},
   "outputs": [],
   "source": [
    "#calculating the predicted values\n",
    "predictions_n = neigh.predict(x_test)"
   ]
  },
  {
   "cell_type": "code",
   "execution_count": 75,
   "id": "ca4ae201",
   "metadata": {},
   "outputs": [
    {
     "name": "stdout",
     "output_type": "stream",
     "text": [
      "              precision    recall  f1-score   support\n",
      "\n",
      "           1       0.59      0.64      0.62       178\n",
      "           2       0.50      0.31      0.39       102\n",
      "           3       0.51      0.59      0.55       148\n",
      "\n",
      "    accuracy                           0.55       428\n",
      "   macro avg       0.54      0.52      0.52       428\n",
      "weighted avg       0.54      0.55      0.54       428\n",
      "\n"
     ]
    }
   ],
   "source": [
    "print(classification_report(y_test, predictions_n))"
   ]
  },
  {
   "cell_type": "markdown",
   "id": "a8f6ec27",
   "metadata": {},
   "source": [
    "## Random Forest Classifier"
   ]
  },
  {
   "cell_type": "code",
   "execution_count": 78,
   "id": "e24f8972",
   "metadata": {},
   "outputs": [
    {
     "data": {
      "text/html": [
       "<style>#sk-container-id-14 {color: black;background-color: white;}#sk-container-id-14 pre{padding: 0;}#sk-container-id-14 div.sk-toggleable {background-color: white;}#sk-container-id-14 label.sk-toggleable__label {cursor: pointer;display: block;width: 100%;margin-bottom: 0;padding: 0.3em;box-sizing: border-box;text-align: center;}#sk-container-id-14 label.sk-toggleable__label-arrow:before {content: \"▸\";float: left;margin-right: 0.25em;color: #696969;}#sk-container-id-14 label.sk-toggleable__label-arrow:hover:before {color: black;}#sk-container-id-14 div.sk-estimator:hover label.sk-toggleable__label-arrow:before {color: black;}#sk-container-id-14 div.sk-toggleable__content {max-height: 0;max-width: 0;overflow: hidden;text-align: left;background-color: #f0f8ff;}#sk-container-id-14 div.sk-toggleable__content pre {margin: 0.2em;color: black;border-radius: 0.25em;background-color: #f0f8ff;}#sk-container-id-14 input.sk-toggleable__control:checked~div.sk-toggleable__content {max-height: 200px;max-width: 100%;overflow: auto;}#sk-container-id-14 input.sk-toggleable__control:checked~label.sk-toggleable__label-arrow:before {content: \"▾\";}#sk-container-id-14 div.sk-estimator input.sk-toggleable__control:checked~label.sk-toggleable__label {background-color: #d4ebff;}#sk-container-id-14 div.sk-label input.sk-toggleable__control:checked~label.sk-toggleable__label {background-color: #d4ebff;}#sk-container-id-14 input.sk-hidden--visually {border: 0;clip: rect(1px 1px 1px 1px);clip: rect(1px, 1px, 1px, 1px);height: 1px;margin: -1px;overflow: hidden;padding: 0;position: absolute;width: 1px;}#sk-container-id-14 div.sk-estimator {font-family: monospace;background-color: #f0f8ff;border: 1px dotted black;border-radius: 0.25em;box-sizing: border-box;margin-bottom: 0.5em;}#sk-container-id-14 div.sk-estimator:hover {background-color: #d4ebff;}#sk-container-id-14 div.sk-parallel-item::after {content: \"\";width: 100%;border-bottom: 1px solid gray;flex-grow: 1;}#sk-container-id-14 div.sk-label:hover label.sk-toggleable__label {background-color: #d4ebff;}#sk-container-id-14 div.sk-serial::before {content: \"\";position: absolute;border-left: 1px solid gray;box-sizing: border-box;top: 0;bottom: 0;left: 50%;z-index: 0;}#sk-container-id-14 div.sk-serial {display: flex;flex-direction: column;align-items: center;background-color: white;padding-right: 0.2em;padding-left: 0.2em;position: relative;}#sk-container-id-14 div.sk-item {position: relative;z-index: 1;}#sk-container-id-14 div.sk-parallel {display: flex;align-items: stretch;justify-content: center;background-color: white;position: relative;}#sk-container-id-14 div.sk-item::before, #sk-container-id-14 div.sk-parallel-item::before {content: \"\";position: absolute;border-left: 1px solid gray;box-sizing: border-box;top: 0;bottom: 0;left: 50%;z-index: -1;}#sk-container-id-14 div.sk-parallel-item {display: flex;flex-direction: column;z-index: 1;position: relative;background-color: white;}#sk-container-id-14 div.sk-parallel-item:first-child::after {align-self: flex-end;width: 50%;}#sk-container-id-14 div.sk-parallel-item:last-child::after {align-self: flex-start;width: 50%;}#sk-container-id-14 div.sk-parallel-item:only-child::after {width: 0;}#sk-container-id-14 div.sk-dashed-wrapped {border: 1px dashed gray;margin: 0 0.4em 0.5em 0.4em;box-sizing: border-box;padding-bottom: 0.4em;background-color: white;}#sk-container-id-14 div.sk-label label {font-family: monospace;font-weight: bold;display: inline-block;line-height: 1.2em;}#sk-container-id-14 div.sk-label-container {text-align: center;}#sk-container-id-14 div.sk-container {/* jupyter's `normalize.less` sets `[hidden] { display: none; }` but bootstrap.min.css set `[hidden] { display: none !important; }` so we also need the `!important` here to be able to override the default hidden behavior on the sphinx rendered scikit-learn.org. See: https://github.com/scikit-learn/scikit-learn/issues/21755 */display: inline-block !important;position: relative;}#sk-container-id-14 div.sk-text-repr-fallback {display: none;}</style><div id=\"sk-container-id-14\" class=\"sk-top-container\"><div class=\"sk-text-repr-fallback\"><pre>RandomForestClassifier(n_estimators=10)</pre><b>In a Jupyter environment, please rerun this cell to show the HTML representation or trust the notebook. <br />On GitHub, the HTML representation is unable to render, please try loading this page with nbviewer.org.</b></div><div class=\"sk-container\" hidden><div class=\"sk-item\"><div class=\"sk-estimator sk-toggleable\"><input class=\"sk-toggleable__control sk-hidden--visually\" id=\"sk-estimator-id-14\" type=\"checkbox\" checked><label for=\"sk-estimator-id-14\" class=\"sk-toggleable__label sk-toggleable__label-arrow\">RandomForestClassifier</label><div class=\"sk-toggleable__content\"><pre>RandomForestClassifier(n_estimators=10)</pre></div></div></div></div></div>"
      ],
      "text/plain": [
       "RandomForestClassifier(n_estimators=10)"
      ]
     },
     "execution_count": 78,
     "metadata": {},
     "output_type": "execute_result"
    }
   ],
   "source": [
    "clf = RandomForestClassifier(n_estimators=10)\n",
    "clf.fit(x_train, y_train)"
   ]
  },
  {
   "cell_type": "code",
   "execution_count": 79,
   "id": "8ae05d56",
   "metadata": {},
   "outputs": [],
   "source": [
    "#calculating the predicted values\n",
    "predictions_c = clf.predict(x_test)"
   ]
  },
  {
   "cell_type": "code",
   "execution_count": 80,
   "id": "36028627",
   "metadata": {},
   "outputs": [
    {
     "name": "stdout",
     "output_type": "stream",
     "text": [
      "              precision    recall  f1-score   support\n",
      "\n",
      "           1       0.57      0.59      0.58       178\n",
      "           2       0.41      0.31      0.35       102\n",
      "           3       0.47      0.53      0.50       148\n",
      "\n",
      "    accuracy                           0.50       428\n",
      "   macro avg       0.48      0.48      0.48       428\n",
      "weighted avg       0.50      0.50      0.50       428\n",
      "\n"
     ]
    }
   ],
   "source": [
    "print(classification_report(y_test, predictions_c))"
   ]
  },
  {
   "cell_type": "markdown",
   "id": "2fe15a66",
   "metadata": {},
   "source": [
    "## Gradient Boosting Classifier"
   ]
  },
  {
   "cell_type": "code",
   "execution_count": 82,
   "id": "67ea7584",
   "metadata": {},
   "outputs": [],
   "source": [
    "model = GradientBoostingClassifier(n_estimators=100, learning_rate=1.0, max_depth=1, random_state=0).fit(x_train, y_train)"
   ]
  },
  {
   "cell_type": "code",
   "execution_count": 85,
   "id": "6c419b3b",
   "metadata": {},
   "outputs": [],
   "source": [
    "#calculating the predicted values\n",
    "predictions_m = model.predict(x_test)"
   ]
  },
  {
   "cell_type": "code",
   "execution_count": 86,
   "id": "3f1b6f48",
   "metadata": {},
   "outputs": [
    {
     "name": "stdout",
     "output_type": "stream",
     "text": [
      "              precision    recall  f1-score   support\n",
      "\n",
      "           1       0.68      0.66      0.67       178\n",
      "           2       0.50      0.35      0.41       102\n",
      "           3       0.53      0.66      0.59       148\n",
      "\n",
      "    accuracy                           0.59       428\n",
      "   macro avg       0.57      0.56      0.56       428\n",
      "weighted avg       0.59      0.59      0.58       428\n",
      "\n"
     ]
    }
   ],
   "source": [
    "print(classification_report(y_test, predictions_m))"
   ]
  },
  {
   "cell_type": "code",
   "execution_count": null,
   "id": "1e13ea4f",
   "metadata": {},
   "outputs": [],
   "source": []
  }
 ],
 "metadata": {
  "kernelspec": {
   "display_name": "Python 3 (ipykernel)",
   "language": "python",
   "name": "python3"
  },
  "language_info": {
   "codemirror_mode": {
    "name": "ipython",
    "version": 3
   },
   "file_extension": ".py",
   "mimetype": "text/x-python",
   "name": "python",
   "nbconvert_exporter": "python",
   "pygments_lexer": "ipython3",
   "version": "3.10.8"
  }
 },
 "nbformat": 4,
 "nbformat_minor": 5
}
